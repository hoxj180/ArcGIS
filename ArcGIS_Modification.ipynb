{
 "cells": [
  {
   "cell_type": "code",
   "execution_count": 1,
   "id": "433568e7",
   "metadata": {},
   "outputs": [
    {
     "ename": "ModuleNotFoundError",
     "evalue": "No module named '_base'",
     "output_type": "error",
     "traceback": [
      "\u001b[1;31m---------------------------------------------------------------------------\u001b[0m",
      "\u001b[1;31mModuleNotFoundError\u001b[0m                       Traceback (most recent call last)",
      "\u001b[1;32m<ipython-input-1-cb5189bdfff2>\u001b[0m in \u001b[0;36m<module>\u001b[1;34m\u001b[0m\n\u001b[1;32m----> 1\u001b[1;33m \u001b[1;32mimport\u001b[0m \u001b[0marcpy\u001b[0m\u001b[1;33m\u001b[0m\u001b[1;33m\u001b[0m\u001b[0m\n\u001b[0m\u001b[0;32m      2\u001b[0m \u001b[1;32mimport\u001b[0m \u001b[0mnumpy\u001b[0m \u001b[1;32mas\u001b[0m \u001b[0mnp\u001b[0m\u001b[1;33m\u001b[0m\u001b[1;33m\u001b[0m\u001b[0m\n\u001b[0;32m      3\u001b[0m \u001b[1;32mimport\u001b[0m \u001b[0mpandas\u001b[0m \u001b[1;32mas\u001b[0m \u001b[0mpd\u001b[0m\u001b[1;33m\u001b[0m\u001b[1;33m\u001b[0m\u001b[0m\n\u001b[0;32m      4\u001b[0m \u001b[1;32mimport\u001b[0m \u001b[0msys\u001b[0m\u001b[1;33m\u001b[0m\u001b[1;33m\u001b[0m\u001b[0m\n\u001b[0;32m      5\u001b[0m \u001b[1;33m\u001b[0m\u001b[0m\n",
      "\u001b[1;32mC:\\Program Files (x86)\\ArcGIS\\Desktop10.7\\arcpy\\arcpy\\__init__.py\u001b[0m in \u001b[0;36m<module>\u001b[1;34m\u001b[0m\n\u001b[0;32m     20\u001b[0m \u001b[1;32mimport\u001b[0m \u001b[0mnumpy\u001b[0m\u001b[1;33m\u001b[0m\u001b[1;33m\u001b[0m\u001b[0m\n\u001b[0;32m     21\u001b[0m \u001b[1;33m\u001b[0m\u001b[0m\n\u001b[1;32m---> 22\u001b[1;33m \u001b[1;32mfrom\u001b[0m \u001b[0marcpy\u001b[0m\u001b[1;33m.\u001b[0m\u001b[0mgeoprocessing\u001b[0m \u001b[1;32mimport\u001b[0m \u001b[0mgp\u001b[0m\u001b[1;33m\u001b[0m\u001b[1;33m\u001b[0m\u001b[0m\n\u001b[0m\u001b[0;32m     23\u001b[0m \u001b[1;32mfrom\u001b[0m \u001b[0marcpy\u001b[0m\u001b[1;33m.\u001b[0m\u001b[0mgeoprocessing\u001b[0m \u001b[1;32mimport\u001b[0m \u001b[0menv\u001b[0m\u001b[1;33m\u001b[0m\u001b[1;33m\u001b[0m\u001b[0m\n\u001b[0;32m     24\u001b[0m \u001b[1;32mfrom\u001b[0m \u001b[0marcpy\u001b[0m\u001b[1;33m.\u001b[0m\u001b[0mgeoprocessing\u001b[0m\u001b[1;33m.\u001b[0m\u001b[0m_base\u001b[0m \u001b[1;32mimport\u001b[0m \u001b[0mgptooldoc\u001b[0m \u001b[1;32mas\u001b[0m \u001b[0m_gptooldoc\u001b[0m\u001b[1;33m\u001b[0m\u001b[1;33m\u001b[0m\u001b[0m\n",
      "\u001b[1;32mC:\\Program Files (x86)\\ArcGIS\\Desktop10.7\\arcpy\\arcpy\\geoprocessing\\__init__.py\u001b[0m in \u001b[0;36m<module>\u001b[1;34m\u001b[0m\n\u001b[0;32m     12\u001b[0m \u001b[1;31m#\u001b[0m\u001b[1;33m\u001b[0m\u001b[1;33m\u001b[0m\u001b[1;33m\u001b[0m\u001b[0m\n\u001b[0;32m     13\u001b[0m \u001b[1;31m#email: contracts@esri.com\u001b[0m\u001b[1;33m\u001b[0m\u001b[1;33m\u001b[0m\u001b[1;33m\u001b[0m\u001b[0m\n\u001b[1;32m---> 14\u001b[1;33m \u001b[1;32mfrom\u001b[0m \u001b[0m_base\u001b[0m \u001b[1;32mimport\u001b[0m \u001b[1;33m*\u001b[0m\u001b[1;33m\u001b[0m\u001b[1;33m\u001b[0m\u001b[0m\n\u001b[0m",
      "\u001b[1;31mModuleNotFoundError\u001b[0m: No module named '_base'"
     ]
    }
   ],
   "source": [
    "import arcpy\n",
    "import numpy as np\n",
    "import pandas as pd\n",
    "import sys\n",
    "\n",
    "#want to create system of arguments to input sorting filters: ie, do you want to sort by country (and if so which ones),\n",
    "#commodity, value, quantity, etc. This should go into ArcGIS where the master table is and manipulate it to pull up \n",
    "#a visualization based on your inputs. \n",
    "\n",
    "#how will the user  have the ArcGIS file that I have? I somehow have to load the ArcGIS file first. UNLESS this script is\n",
    "#executed inside ArcGIS, in which case it should be fine. \n",
    "\n",
    "#to input, can either ask for input:\n",
    "quantity = input(\"Input quantity greater than: \", )\n",
    "#or use sys.argv\n",
    "quantity = sys.argv[1]\n",
    "\n",
    "print(\"Hi! Please enter Y or N to the following filters.\", )\n",
    "CountryYN = input(\"Country? \", )\n",
    "QuantityYN = input(\"Quantity? \", )\n",
    "ValueYN = input(\"Value? \", )\n",
    "SupplyCommodYN = input(\"Supply Commodity? \",)\n",
    "\n",
    "#establishing filters for SQL statements.\n",
    "if CountryYN == 'Y':\n",
    "    #need to modify table to include country names. Import vs export? Or all?\n",
    "    countryInput = input(\"Which countries? Please ensure correct spelling and capitalization and separate with spaces. \", )\n",
    "    countryFilter = countryInput.split() #creates array of countries where delimiter is space\n",
    "if QuantityYN == 'Y':\n",
    "    Quantitygtlt = input(\"greater than (input g) or less than (input l)? \", )\n",
    "    quantityFilter = input(\"Quantity Value? \", )\n",
    "    if Quantitygtlt == 'g':\n",
    "        quantity = '>' + str(quantityFilter)\n",
    "    elif Quanitytgtlt == 'l':\n",
    "        quantity = '<' + str(quantityFilter)\n",
    "if ValueYN == 'Y':\n",
    "    Valuegtlt = input(\"greater than (input g) or less than (input l)? \", )\n",
    "    valueFilter = input(\"USD Value? \", )\n",
    "    if Valuegtlt == 'g':\n",
    "        valueUSD = '>' + str(valueFilter)\n",
    "    elif Valuegtlt == 'l':\n",
    "        valueUSD = '<' + str(valueFilter) \n",
    "if SupplyCommodYN == 'Y':\n",
    "    suppcommInput = input('Which commodities? Please choose \"CWC scheduled chemicals\", \"Detonators\", and/or \"Micro-organisms and toxins\" ', )\n",
    "    suppcommFilter = suppcommInput.split()\n",
    "\n",
    "#create SQL statement\n",
    "table = 'extendedSupplyTest'\n",
    "value = table\n",
    "\n",
    "newTable = arcpy.SelectLayerByAttribute_management(\"in_table\",\"NEW_SELECTION\",\"SQL statement\")\n",
    "arcpy.TableToTable_conversion(\"newTable\",'out_path','out_name')\n",
    "    #path for some reason does not work. Can also clip:\n",
    "arcpy.Clip_analysis(\"in_features\",\"clip_features\",\"Feature Class\")\n",
    "    #in_features = clip_features when attributes selected. Feature class is name of new selection, NOT path. \n",
    "\n"
   ]
  },
  {
   "cell_type": "code",
   "execution_count": 2,
   "id": "1c489213",
   "metadata": {},
   "outputs": [
    {
     "name": "stdout",
     "output_type": "stream",
     "text": [
      "3\n",
      "['C:\\\\Users\\\\jlho\\\\Anaconda3\\\\lib\\\\site-packages\\\\ipykernel_launcher.py', '-f', 'C:\\\\Users\\\\jlho\\\\AppData\\\\Roaming\\\\jupyter\\\\runtime\\\\kernel-0ed71e49-9be7-41be-900c-92deb2d7ff05.json']\n"
     ]
    }
   ],
   "source": [
    "import sys\n",
    "\n",
    "print(len(sys.argv))\n",
    "print(str(sys.argv))"
   ]
  },
  {
   "cell_type": "code",
   "execution_count": 6,
   "id": "51a89ea2",
   "metadata": {},
   "outputs": [
    {
     "name": "stdout",
     "output_type": "stream",
     "text": [
      ">500\n"
     ]
    }
   ],
   "source": [
    "quantity = '>' + str(500)\n",
    "print(quantity)"
   ]
  },
  {
   "cell_type": "code",
   "execution_count": null,
   "id": "13f5b123",
   "metadata": {},
   "outputs": [],
   "source": []
  }
 ],
 "metadata": {
  "kernelspec": {
   "display_name": "Python 3",
   "language": "python",
   "name": "python3"
  },
  "language_info": {
   "codemirror_mode": {
    "name": "ipython",
    "version": 3
   },
   "file_extension": ".py",
   "mimetype": "text/x-python",
   "name": "python",
   "nbconvert_exporter": "python",
   "pygments_lexer": "ipython3",
   "version": "3.8.8"
  }
 },
 "nbformat": 4,
 "nbformat_minor": 5
}
